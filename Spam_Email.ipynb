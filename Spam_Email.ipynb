{
  "nbformat": 4,
  "nbformat_minor": 0,
  "metadata": {
    "colab": {
      "provenance": [],
      "toc_visible": true,
      "authorship_tag": "ABX9TyM4RJTSP3Jh8g+NN7xUIiXn",
      "include_colab_link": true
    },
    "kernelspec": {
      "name": "python3",
      "display_name": "Python 3"
    },
    "language_info": {
      "name": "python"
    }
  },
  "cells": [
    {
      "cell_type": "markdown",
      "metadata": {
        "id": "view-in-github",
        "colab_type": "text"
      },
      "source": [
        "<a href=\"https://colab.research.google.com/github/Almerin0/Data_Analytics/blob/main/Spam_Email.ipynb\" target=\"_parent\"><img src=\"https://colab.research.google.com/assets/colab-badge.svg\" alt=\"Open In Colab\"/></a>"
      ]
    },
    {
      "cell_type": "code",
      "source": [
        "# Author: Almos Feher (2311456)\n",
        "# Date: 25/10/2023\n",
        "\n",
        "# import necessary libraries\n",
        "import numpy as np\n",
        "import pandas as pd\n",
        "import seaborn as sns\n",
        "import matplotlib.pyplot as plt\n",
        "\n",
        "from sklearn.linear_model import LinearRegression\n",
        "\n",
        "df = pd.read_csv('emails.csv')\n",
        "df[:25]\n",
        "\n",
        "# Data Size\n",
        "print(f'The dataset contains {df.shape[0]} rows, and {df.shape[1]} columns')\n",
        "\n",
        "# Check names of columns and data types\n",
        "df.columns\n",
        "df.info()\n"
      ],
      "metadata": {
        "colab": {
          "base_uri": "https://localhost:8080/"
        },
        "id": "SLERvKZ6KJ-D",
        "outputId": "0cb27dcc-f27d-4351-8f2e-476d351b32ff"
      },
      "execution_count": 27,
      "outputs": [
        {
          "output_type": "stream",
          "name": "stdout",
          "text": [
            "The dataset contains 5346 rows, and 3002 columns\n",
            "<class 'pandas.core.frame.DataFrame'>\n",
            "RangeIndex: 5346 entries, 0 to 5345\n",
            "Columns: 3002 entries, Email No. to Prediction\n",
            "dtypes: float64(1038), int64(1963), object(1)\n",
            "memory usage: 122.4+ MB\n"
          ]
        }
      ]
    }
  ]
}